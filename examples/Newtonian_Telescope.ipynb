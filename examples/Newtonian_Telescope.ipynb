{
 "cells": [
  {
   "cell_type": "code",
   "execution_count": 1,
   "metadata": {},
   "outputs": [],
   "source": [
    "import numpy as np\n",
    "import matplotlib.pyplot as plt\n",
    "\n",
    "import tracepy as tp"
   ]
  },
  {
   "cell_type": "code",
   "execution_count": 2,
   "metadata": {},
   "outputs": [],
   "source": [
    "mirror = {\n",
    "    'action': 'reflection',\n",
    "    'D': np.array([0.,np.pi,0.]),\n",
    "    'P': np.array([0.,0.,10.]),\n",
    "    'kappa': 0.,\n",
    "    'c': 0.05,\n",
    "    'Diam': 3.6,\n",
    "}\n",
    "\n",
    "small_mirror = {\n",
    "    'action': 'reflection',\n",
    "    'D': np.array([0.,-np.pi/4.,0.]),\n",
    "    'P': np.array([0.,0.,2.]),\n",
    "    'Diam': 1.4,\n",
    "}\n",
    "\n",
    "selector = {\n",
    "    'action': 'stop',\n",
    "    'P': np.array([0., 0., 0.1]),\n",
    "    'Diam': 3.6,\n",
    "    'diam': 1.4\n",
    "}\n",
    "\n",
    "stop = {\n",
    "    'action': 'stop',\n",
    "    'P': np.array([0., -4.6, 2.]),\n",
    "    'D': np.array([0., np.pi/2., 0.]),\n",
    "    'Diam': .8\n",
    "}\n",
    "\n",
    "lensy = -4.\n",
    "thickness = .1\n",
    "\n",
    "lens1 = {\n",
    "    'action': 'refraction',\n",
    "    'P': np.array([0., lensy, 2.]),\n",
    "    'D':np.array([0., 3*np.pi/2., 0.]),\n",
    "    'Diam': 0.8,\n",
    "    'kappa':0.,\n",
    "    'N': 1.73,\n",
    "    'c': 0.3\n",
    "}\n",
    "\n",
    "lens2 = {\n",
    "    'action': 'refraction',\n",
    "    'P': np.array([0., lensy-thickness, 2.]),\n",
    "    'D':np.array([0., 3*np.pi/2., 0.]),\n",
    "    'Diam': 0.8,\n",
    "    'kappa':0.,\n",
    "    'c': -0.3\n",
    "}\n",
    "\n",
    "geo = [selector, mirror, small_mirror, lens1, lens2, stop]\n",
    "ray_group = tp.ray_plane(geo, [0., 0., 0.], 1.8, d=[0.,0.,1.], nrays=50)"
   ]
  },
  {
   "cell_type": "code",
   "execution_count": 3,
   "metadata": {},
   "outputs": [
    {
     "data": {
      "image/png": "[encoded data removed]",
      "text/plain": [
       "<Figure size 432x288 with 1 Axes>"
      ]
     },
     "metadata": {},
     "output_type": "display_data"
    }
   ],
   "source": [
    "tp.plotyz(geo, ray_group)"
   ]
  },
  {
   "cell_type": "code",
   "execution_count": 4,
   "metadata": {},
   "outputs": [
    {
     "data": {
      "image/png": "[encoded data removed]",
      "text/plain": [
       "<Figure size 432x288 with 1 Axes>"
      ]
     },
     "metadata": {},
     "output_type": "display_data"
    }
   ],
   "source": [
    "tp.spotdiagram(geo, ray_group)\n",
    "plt.title(\"Image\")\n",
    "plt.show()"
   ]
  },
  {
   "cell_type": "code",
   "execution_count": 5,
   "metadata": {},
   "outputs": [
    {
     "data": {
      "image/png": "[encoded data removed]",
      "text/plain": [
       "<Figure size 432x288 with 1 Axes>"
      ]
     },
     "metadata": {},
     "output_type": "display_data"
    }
   ],
   "source": [
    "tp.plotobject(geo, ray_group)\n",
    "plt.title(\"Object\")\n",
    "plt.show()"
   ]
  },
  {
   "cell_type": "code",
   "execution_count": 6,
   "metadata": {},
   "outputs": [],
   "source": [
    "\n",
    "lens1 = {\n",
    "    'action': 'refraction',\n",
    "    'P': np.array([0., lensy, 2.]),\n",
    "    'D':np.array([0., 3*np.pi/2., 0.]),\n",
    "    'Diam': 0.8,\n",
    "    'kappa':0.,\n",
    "    'N': 1.73, #Modified with Index\n",
    "    'c': 0.3\n",
    "}\n",
    "x = tp.geometry(lens1)"
   ]
  },
  {
   "cell_type": "code",
   "execution_count": 7,
   "metadata": {},
   "outputs": [
    {
     "data": {
      "text/plain": [
       "False"
      ]
     },
     "execution_count": 7,
     "metadata": {},
     "output_type": "execute_result"
    }
   ],
   "source": [
    "'glass' in x.__dict__"
   ]
  },
  {
   "cell_type": "code",
   "execution_count": 8,
   "metadata": {},
   "outputs": [
    {
     "ename": "AttributeError",
     "evalue": "'geometry' object has no attribute 'glass'",
     "output_type": "error",
     "traceback": [
      "\u001b[1;31m---------------------------------------------------------------------------\u001b[0m",
      "\u001b[1;31mAttributeError\u001b[0m                            Traceback (most recent call last)",
      "\u001b[1;32m<ipython-input-8-ac8d95e2c4a0>\u001b[0m in \u001b[0;36m<module>\u001b[1;34m()\u001b[0m\n\u001b[1;32m----> 1\u001b[1;33m \u001b[0mprint\u001b[0m\u001b[1;33m(\u001b[0m\u001b[0mx\u001b[0m\u001b[1;33m.\u001b[0m\u001b[0mglass\u001b[0m\u001b[1;33m)\u001b[0m\u001b[1;33m\u001b[0m\u001b[1;33m\u001b[0m\u001b[0m\n\u001b[0m",
      "\u001b[1;31mAttributeError\u001b[0m: 'geometry' object has no attribute 'glass'"
     ]
    }
   ],
   "source": []
  },
  {
   "cell_type": "code",
   "execution_count": null,
   "metadata": {},
   "outputs": [],
   "source": []
  }
 ],
 "metadata": {
  "kernelspec": {
   "display_name": "venv-tracepy",
   "language": "python",
   "name": "venv-tracepy"
  },
  "language_info": {
   "codemirror_mode": {
    "name": "ipython",
    "version": 3
   },
   "file_extension": ".py",
   "mimetype": "text/x-python",
   "name": "python",
   "nbconvert_exporter": "python",
   "pygments_lexer": "ipython3",
   "version": "3.7.3"
  }
 },
 "nbformat": 4,
 "nbformat_minor": 2
}
